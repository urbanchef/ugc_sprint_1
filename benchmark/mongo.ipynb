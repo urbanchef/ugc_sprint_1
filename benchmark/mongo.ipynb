{
 "cells": [
  {
   "cell_type": "code",
   "execution_count": 1,
   "id": "b5ca0072",
   "metadata": {
    "pycharm": {
     "name": "#%%\n"
    }
   },
   "outputs": [],
   "source": [
    "from pymongo import MongoClient\n",
    "import pandas as pd"
   ]
  },
  {
   "cell_type": "code",
   "execution_count": 2,
   "outputs": [],
   "source": [
    "CHUNK_SIZE = 100"
   ],
   "metadata": {
    "collapsed": false,
    "pycharm": {
     "name": "#%%\n"
    }
   }
  },
  {
   "cell_type": "code",
   "execution_count": 3,
   "outputs": [],
   "source": [
    "df = pd.read_csv(\"./data/sf_salaries.csv\", delimiter=\",\", encoding=\"utf-8\", low_memory=False)"
   ],
   "metadata": {
    "collapsed": false,
    "pycharm": {
     "name": "#%%\n"
    }
   }
  },
  {
   "cell_type": "code",
   "execution_count": 4,
   "outputs": [],
   "source": [
    "client = MongoClient(\"localhost\", 27017)"
   ],
   "metadata": {
    "collapsed": false,
    "pycharm": {
     "name": "#%%\n"
    }
   }
  },
  {
   "cell_type": "code",
   "execution_count": 5,
   "outputs": [],
   "source": [
    "db = client[\"test_db\"]"
   ],
   "metadata": {
    "collapsed": false,
    "pycharm": {
     "name": "#%%\n"
    }
   }
  },
  {
   "cell_type": "code",
   "execution_count": 6,
   "outputs": [],
   "source": [
    "collection = db[\"test_collection\"]"
   ],
   "metadata": {
    "collapsed": false,
    "pycharm": {
     "name": "#%%\n"
    }
   }
  },
  {
   "cell_type": "code",
   "execution_count": 7,
   "outputs": [
    {
     "data": {
      "text/plain": "Collection(Database(MongoClient(host=['localhost:27017'], document_class=dict, tz_aware=False, connect=True), 'test_db'), 'test_collection')"
     },
     "execution_count": 7,
     "metadata": {},
     "output_type": "execute_result"
    }
   ],
   "source": [
    "collection"
   ],
   "metadata": {
    "collapsed": false,
    "pycharm": {
     "name": "#%%\n"
    }
   }
  },
  {
   "cell_type": "code",
   "execution_count": 8,
   "outputs": [],
   "source": [
    "import json\n",
    "\n",
    "payload = json.loads(df.to_json(orient='records'))"
   ],
   "metadata": {
    "collapsed": false,
    "pycharm": {
     "name": "#%%\n"
    }
   }
  },
  {
   "cell_type": "code",
   "execution_count": 9,
   "outputs": [],
   "source": [
    "result = collection.insert_many(payload)"
   ],
   "metadata": {
    "collapsed": false,
    "pycharm": {
     "name": "#%%\n"
    }
   }
  },
  {
   "cell_type": "code",
   "execution_count": 10,
   "outputs": [
    {
     "data": {
      "text/plain": "148654"
     },
     "execution_count": 10,
     "metadata": {},
     "output_type": "execute_result"
    }
   ],
   "source": [
    "len(result.inserted_ids)\n"
   ],
   "metadata": {
    "collapsed": false,
    "pycharm": {
     "name": "#%%\n"
    }
   }
  },
  {
   "cell_type": "code",
   "execution_count": 11,
   "outputs": [],
   "source": [
    "find_result = collection.find({ \"JobTitle\": \"NURSE MANAGER\" })"
   ],
   "metadata": {
    "collapsed": false,
    "pycharm": {
     "name": "#%%\n"
    }
   }
  },
  {
   "cell_type": "code",
   "execution_count": 12,
   "outputs": [
    {
     "data": {
      "text/plain": "{'_id': ObjectId('6266e2202843d1225747e25b'),\n 'Id': 1,\n 'EmployeeName': 'NATHANIEL FORD',\n 'JobTitle': 'GENERAL MANAGER-METROPOLITAN TRANSIT AUTHORITY',\n 'BasePay': '167411.18',\n 'OvertimePay': '0.0',\n 'OtherPay': '400184.25',\n 'Benefits': None,\n 'TotalPay': 567595.43,\n 'TotalPayBenefits': 567595.43,\n 'Year': 2011,\n 'Notes': None,\n 'Agency': 'San Francisco',\n 'Status': None}"
     },
     "execution_count": 12,
     "metadata": {},
     "output_type": "execute_result"
    }
   ],
   "source": [
    "collection.find_one()\n"
   ],
   "metadata": {
    "collapsed": false,
    "pycharm": {
     "name": "#%%\n"
    }
   }
  },
  {
   "cell_type": "code",
   "execution_count": 13,
   "outputs": [
    {
     "name": "stdout",
     "output_type": "stream",
     "text": [
      "Elapsed: 1.02996826171875\n"
     ]
    }
   ],
   "source": [
    "import time\n",
    "\n",
    "start = time.time()\n",
    "collection.find_one()\n",
    "end = time.time()\n",
    "print(\"Elapsed:\", (end - start)*1000)"
   ],
   "metadata": {
    "collapsed": false,
    "pycharm": {
     "name": "#%%\n"
    }
   }
  },
  {
   "cell_type": "code",
   "execution_count": 14,
   "outputs": [
    {
     "name": "stdout",
     "output_type": "stream",
     "text": [
      "{'_id': ObjectId('6266e2202843d1225747e303'), 'Id': 169, 'EmployeeName': 'AMPARO RODRIGUEZ', 'JobTitle': 'NURSE MANAGER', 'BasePay': '161044.0', 'OvertimePay': '4599.05', 'OtherPay': '43997.82', 'Benefits': None, 'TotalPay': 209640.87, 'TotalPayBenefits': 209640.87, 'Year': 2011, 'Notes': None, 'Agency': 'San Francisco', 'Status': None}\n",
      "{'_id': ObjectId('6266e2202843d1225747e326'), 'Id': 204, 'EmployeeName': 'ROSELYN JEQUINTO', 'JobTitle': 'NURSE MANAGER', 'BasePay': '165996.75', 'OvertimePay': '8054.01', 'OtherPay': '31660.13', 'Benefits': None, 'TotalPay': 205710.89, 'TotalPayBenefits': 205710.89, 'Year': 2011, 'Notes': None, 'Agency': 'San Francisco', 'Status': None}\n",
      "{'_id': ObjectId('6266e2202843d1225747e352'), 'Id': 248, 'EmployeeName': 'NANCY PARKER', 'JobTitle': 'NURSE MANAGER', 'BasePay': '171236.03', 'OvertimePay': '0.0', 'OtherPay': '29584.32', 'Benefits': None, 'TotalPay': 200820.35, 'TotalPayBenefits': 200820.35, 'Year': 2011, 'Notes': None, 'Agency': 'San Francisco', 'Status': None}\n",
      "{'_id': ObjectId('6266e2202843d1225747e35a'), 'Id': 256, 'EmployeeName': 'CRISTINA REYES', 'JobTitle': 'NURSE MANAGER', 'BasePay': '171236.02', 'OvertimePay': '0.0', 'OtherPay': '29110.14', 'Benefits': None, 'TotalPay': 200346.16, 'TotalPayBenefits': 200346.16, 'Year': 2011, 'Notes': None, 'Agency': 'San Francisco', 'Status': None}\n",
      "{'_id': ObjectId('6266e2202843d1225747e384'), 'Id': 298, 'EmployeeName': 'JOSEPHINE RAPADAS', 'JobTitle': 'NURSE MANAGER', 'BasePay': '171071.36', 'OvertimePay': '7606.83', 'OtherPay': '18210.2', 'Benefits': None, 'TotalPay': 196888.39, 'TotalPayBenefits': 196888.39, 'Year': 2011, 'Notes': None, 'Agency': 'San Francisco', 'Status': None}\n",
      "{'_id': ObjectId('6266e2202843d1225747e38b'), 'Id': 305, 'EmployeeName': 'JAY KLOO', 'JobTitle': 'NURSE MANAGER', 'BasePay': '161044.0', 'OvertimePay': '0.0', 'OtherPay': '35429.68', 'Benefits': None, 'TotalPay': 196473.68, 'TotalPayBenefits': 196473.68, 'Year': 2011, 'Notes': None, 'Agency': 'San Francisco', 'Status': None}\n",
      "{'_id': ObjectId('6266e2202843d1225747e3a3'), 'Id': 329, 'EmployeeName': 'JANET HINES', 'JobTitle': 'NURSE MANAGER', 'BasePay': '171236.0', 'OvertimePay': '0.0', 'OtherPay': '24038.9', 'Benefits': None, 'TotalPay': 195274.9, 'TotalPayBenefits': 195274.9, 'Year': 2011, 'Notes': None, 'Agency': 'San Francisco', 'Status': None}\n",
      "{'_id': ObjectId('6266e2202843d1225747e3c6'), 'Id': 364, 'EmployeeName': 'FLAVIA BAYATI', 'JobTitle': 'NURSE MANAGER', 'BasePay': '164711.0', 'OvertimePay': '0.0', 'OtherPay': '28384.07', 'Benefits': None, 'TotalPay': 193095.07, 'TotalPayBenefits': 193095.07, 'Year': 2011, 'Notes': None, 'Agency': 'San Francisco', 'Status': None}\n",
      "{'_id': ObjectId('6266e2202843d1225747e3e5'), 'Id': 395, 'EmployeeName': 'KATHLEEN MAXWELL', 'JobTitle': 'NURSE MANAGER', 'BasePay': '171374.32', 'OvertimePay': '2173.38', 'OtherPay': '17980.94', 'Benefits': None, 'TotalPay': 191528.64, 'TotalPayBenefits': 191528.64, 'Year': 2011, 'Notes': None, 'Agency': 'San Francisco', 'Status': None}\n",
      "{'_id': ObjectId('6266e2202843d1225747e3f1'), 'Id': 407, 'EmployeeName': 'MICHAEL DALY', 'JobTitle': 'NURSE MANAGER', 'BasePay': '164035.5', 'OvertimePay': '0.0', 'OtherPay': '26596.23', 'Benefits': None, 'TotalPay': 190631.73, 'TotalPayBenefits': 190631.73, 'Year': 2011, 'Notes': None, 'Agency': 'San Francisco', 'Status': None}\n",
      "{'_id': ObjectId('6266e2202843d1225747e3fc'), 'Id': 418, 'EmployeeName': 'LAWRENCE NICHOLLS', 'JobTitle': 'NURSE MANAGER', 'BasePay': '161661.6', 'OvertimePay': '619.4', 'OtherPay': '27479.77', 'Benefits': None, 'TotalPay': 189760.77, 'TotalPayBenefits': 189760.77, 'Year': 2011, 'Notes': None, 'Agency': 'San Francisco', 'Status': None}\n",
      "{'_id': ObjectId('6266e2202843d1225747e405'), 'Id': 427, 'EmployeeName': 'NANCY LEW', 'JobTitle': 'NURSE MANAGER', 'BasePay': '171236.09', 'OvertimePay': '0.0', 'OtherPay': '17998.64', 'Benefits': None, 'TotalPay': 189234.73, 'TotalPayBenefits': 189234.73, 'Year': 2011, 'Notes': None, 'Agency': 'San Francisco', 'Status': None}\n",
      "{'_id': ObjectId('6266e2202843d1225747e407'), 'Id': 429, 'EmployeeName': 'ROSEMARY LEE', 'JobTitle': 'NURSE MANAGER', 'BasePay': '171236.01', 'OvertimePay': '0.0', 'OtherPay': '17963.61', 'Benefits': None, 'TotalPay': 189199.62, 'TotalPayBenefits': 189199.62, 'Year': 2011, 'Notes': None, 'Agency': 'San Francisco', 'Status': None}\n",
      "{'_id': ObjectId('6266e2202843d1225747e414'), 'Id': 442, 'EmployeeName': 'LAN LEE', 'JobTitle': 'NURSE MANAGER', 'BasePay': '161044.0', 'OvertimePay': '0.0', 'OtherPay': '27437.04', 'Benefits': None, 'TotalPay': 188481.04, 'TotalPayBenefits': 188481.04, 'Year': 2011, 'Notes': None, 'Agency': 'San Francisco', 'Status': None}\n",
      "{'_id': ObjectId('6266e2202843d1225747e415'), 'Id': 443, 'EmployeeName': 'TROY WILLIAMS', 'JobTitle': 'NURSE MANAGER', 'BasePay': '161044.0', 'OvertimePay': '0.0', 'OtherPay': '27377.5', 'Benefits': None, 'TotalPay': 188421.5, 'TotalPayBenefits': 188421.5, 'Year': 2011, 'Notes': None, 'Agency': 'San Francisco', 'Status': None}\n",
      "{'_id': ObjectId('6266e2202843d1225747e418'), 'Id': 446, 'EmployeeName': 'ELAINE COLEMAN', 'JobTitle': 'NURSE MANAGER', 'BasePay': '171236.09', 'OvertimePay': '0.0', 'OtherPay': '17123.68', 'Benefits': None, 'TotalPay': 188359.77, 'TotalPayBenefits': 188359.77, 'Year': 2011, 'Notes': None, 'Agency': 'San Francisco', 'Status': None}\n",
      "{'_id': ObjectId('6266e2202843d1225747e446'), 'Id': 492, 'EmployeeName': 'JILL LECOUNT', 'JobTitle': 'NURSE MANAGER', 'BasePay': '171044.1', 'OvertimePay': '0.0', 'OtherPay': '15147.84', 'Benefits': None, 'TotalPay': 186191.94, 'TotalPayBenefits': 186191.94, 'Year': 2011, 'Notes': None, 'Agency': 'San Francisco', 'Status': None}\n",
      "{'_id': ObjectId('6266e2202843d1225747e479'), 'Id': 543, 'EmployeeName': 'DEBORAH LOGAN', 'JobTitle': 'NURSE MANAGER', 'BasePay': '158223.4', 'OvertimePay': '0.0', 'OtherPay': '26661.89', 'Benefits': None, 'TotalPay': 184885.29, 'TotalPayBenefits': 184885.29, 'Year': 2011, 'Notes': None, 'Agency': 'San Francisco', 'Status': None}\n",
      "{'_id': ObjectId('6266e2202843d1225747e48b'), 'Id': 561, 'EmployeeName': 'KATHRYN FOWLER', 'JobTitle': 'NURSE MANAGER', 'BasePay': '152743.07', 'OvertimePay': '0.0', 'OtherPay': '31081.7', 'Benefits': None, 'TotalPay': 183824.77, 'TotalPayBenefits': 183824.77, 'Year': 2011, 'Notes': None, 'Agency': 'San Francisco', 'Status': None}\n",
      "{'_id': ObjectId('6266e2202843d1225747e48f'), 'Id': 565, 'EmployeeName': 'ELISA RAMIREZ', 'JobTitle': 'NURSE MANAGER', 'BasePay': '170596.03', 'OvertimePay': '0.0', 'OtherPay': '13060.81', 'Benefits': None, 'TotalPay': 183656.84, 'TotalPayBenefits': 183656.84, 'Year': 2011, 'Notes': None, 'Agency': 'San Francisco', 'Status': None}\n",
      "{'_id': ObjectId('6266e2202843d1225747e498'), 'Id': 574, 'EmployeeName': 'FE HORTINELA', 'JobTitle': 'NURSE MANAGER', 'BasePay': '171236.01', 'OvertimePay': '0.0', 'OtherPay': '11986.52', 'Benefits': None, 'TotalPay': 183222.53, 'TotalPayBenefits': 183222.53, 'Year': 2011, 'Notes': None, 'Agency': 'San Francisco', 'Status': None}\n",
      "{'_id': ObjectId('6266e2202843d1225747e499'), 'Id': 575, 'EmployeeName': 'CHRISTINE WINKLER', 'JobTitle': 'NURSE MANAGER', 'BasePay': '171236.0', 'OvertimePay': '0.0', 'OtherPay': '11986.52', 'Benefits': None, 'TotalPay': 183222.52, 'TotalPayBenefits': 183222.52, 'Year': 2011, 'Notes': None, 'Agency': 'San Francisco', 'Status': None}\n",
      "{'_id': ObjectId('6266e2202843d1225747e4a0'), 'Id': 582, 'EmployeeName': 'ELLEN APOLINARIO', 'JobTitle': 'NURSE MANAGER', 'BasePay': '171236.01', 'OvertimePay': '987.9', 'OtherPay': '10833.97', 'Benefits': None, 'TotalPay': 183057.88, 'TotalPayBenefits': 183057.88, 'Year': 2011, 'Notes': None, 'Agency': 'San Francisco', 'Status': None}\n",
      "{'_id': ObjectId('6266e2202843d1225747e4a7'), 'Id': 589, 'EmployeeName': 'ROWENA PATEL', 'JobTitle': 'NURSE MANAGER', 'BasePay': '156312.0', 'OvertimePay': '0.0', 'OtherPay': '26573.04', 'Benefits': None, 'TotalPay': 182885.04, 'TotalPayBenefits': 182885.04, 'Year': 2011, 'Notes': None, 'Agency': 'San Francisco', 'Status': None}\n",
      "{'_id': ObjectId('6266e2202843d1225747e4b0'), 'Id': 598, 'EmployeeName': 'MIRIAM DAMON', 'JobTitle': 'NURSE MANAGER', 'BasePay': '166062.06', 'OvertimePay': '0.0', 'OtherPay': '16606.26', 'Benefits': None, 'TotalPay': 182668.32, 'TotalPayBenefits': 182668.32, 'Year': 2011, 'Notes': None, 'Agency': 'San Francisco', 'Status': None}\n",
      "{'_id': ObjectId('6266e2202843d1225747e4b1'), 'Id': 599, 'EmployeeName': 'ANGELA PLATZER', 'JobTitle': 'NURSE MANAGER', 'BasePay': '166062.03', 'OvertimePay': '0.0', 'OtherPay': '16606.21', 'Benefits': None, 'TotalPay': 182668.24, 'TotalPayBenefits': 182668.24, 'Year': 2011, 'Notes': None, 'Agency': 'San Francisco', 'Status': None}\n",
      "{'_id': ObjectId('6266e2202843d1225747e4b3'), 'Id': 601, 'EmployeeName': 'GENEVIEVE FARR', 'JobTitle': 'NURSE MANAGER', 'BasePay': '156312.0', 'OvertimePay': '0.0', 'OtherPay': '26236.37', 'Benefits': None, 'TotalPay': 182548.37, 'TotalPayBenefits': 182548.37, 'Year': 2011, 'Notes': None, 'Agency': 'San Francisco', 'Status': None}\n",
      "{'_id': ObjectId('6266e2202843d1225747e4b7'), 'Id': 605, 'EmployeeName': 'OLIVA IGNACIO', 'JobTitle': 'NURSE MANAGER', 'BasePay': '171236.02', 'OvertimePay': '0.0', 'OtherPay': '11156.69', 'Benefits': None, 'TotalPay': 182392.71, 'TotalPayBenefits': 182392.71, 'Year': 2011, 'Notes': None, 'Agency': 'San Francisco', 'Status': None}\n",
      "{'_id': ObjectId('6266e2202843d1225747e4d7'), 'Id': 637, 'EmployeeName': 'BERNARDITA HERNANDEZ', 'JobTitle': 'NURSE MANAGER', 'BasePay': '156312.0', 'OvertimePay': '0.0', 'OtherPay': '25202.31', 'Benefits': None, 'TotalPay': 181514.31, 'TotalPayBenefits': 181514.31, 'Year': 2011, 'Notes': None, 'Agency': 'San Francisco', 'Status': None}\n",
      "{'_id': ObjectId('6266e2202843d1225747e532'), 'Id': 728, 'EmployeeName': 'LANNIE ADELMAN', 'JobTitle': 'NURSE MANAGER', 'BasePay': '156312.01', 'OvertimePay': '0.0', 'OtherPay': '21883.72', 'Benefits': None, 'TotalPay': 178195.73, 'TotalPayBenefits': 178195.73, 'Year': 2011, 'Notes': None, 'Agency': 'San Francisco', 'Status': None}\n",
      "{'_id': ObjectId('6266e2202843d1225747e549'), 'Id': 751, 'EmployeeName': 'IRIN FAYE BLANCO', 'JobTitle': 'NURSE MANAGER', 'BasePay': '151554.0', 'OvertimePay': '0.0', 'OtherPay': '25764.18', 'Benefits': None, 'TotalPay': 177318.18, 'TotalPayBenefits': 177318.18, 'Year': 2011, 'Notes': None, 'Agency': 'San Francisco', 'Status': None}\n",
      "{'_id': ObjectId('6266e2202843d1225747e54c'), 'Id': 754, 'EmployeeName': 'ALFREDO ABARCA', 'JobTitle': 'NURSE MANAGER', 'BasePay': '166062.0', 'OvertimePay': '0.0', 'OtherPay': '11177.25', 'Benefits': None, 'TotalPay': 177239.25, 'TotalPayBenefits': 177239.25, 'Year': 2011, 'Notes': None, 'Agency': 'San Francisco', 'Status': None}\n",
      "{'_id': ObjectId('6266e2202843d1225747e555'), 'Id': 763, 'EmployeeName': 'CECILE SCHWANKE', 'JobTitle': 'NURSE MANAGER', 'BasePay': '161044.01', 'OvertimePay': '0.0', 'OtherPay': '16103.56', 'Benefits': None, 'TotalPay': 177147.57, 'TotalPayBenefits': 177147.57, 'Year': 2011, 'Notes': None, 'Agency': 'San Francisco', 'Status': None}\n",
      "{'_id': ObjectId('6266e2202843d1225747e572'), 'Id': 792, 'EmployeeName': 'MARIA DE JESUS', 'JobTitle': 'NURSE MANAGER', 'BasePay': '146919.0', 'OvertimePay': '0.0', 'OtherPay': '29746.49', 'Benefits': None, 'TotalPay': 176665.49, 'TotalPayBenefits': 176665.49, 'Year': 2011, 'Notes': None, 'Agency': 'San Francisco', 'Status': None}\n",
      "{'_id': ObjectId('6266e2202843d1225747e57a'), 'Id': 800, 'EmployeeName': 'LINDA SIMS', 'JobTitle': 'NURSE MANAGER', 'BasePay': '157240.2', 'OvertimePay': '0.0', 'OtherPay': '18867.55', 'Benefits': None, 'TotalPay': 176107.75, 'TotalPayBenefits': 176107.75, 'Year': 2011, 'Notes': None, 'Agency': 'San Francisco', 'Status': None}\n",
      "{'_id': ObjectId('6266e2202843d1225747e58a'), 'Id': 816, 'EmployeeName': 'DIANE BEETHAM', 'JobTitle': 'NURSE MANAGER', 'BasePay': '159418.08', 'OvertimePay': '0.0', 'OtherPay': '15941.82', 'Benefits': None, 'TotalPay': 175359.9, 'TotalPayBenefits': 175359.9, 'Year': 2011, 'Notes': None, 'Agency': 'San Francisco', 'Status': None}\n",
      "{'_id': ObjectId('6266e2202843d1225747e599'), 'Id': 831, 'EmployeeName': 'ALICE MOUGHAMIAN', 'JobTitle': 'NURSE MANAGER', 'BasePay': '140748.0', 'OvertimePay': '0.0', 'OtherPay': '34397.78', 'Benefits': None, 'TotalPay': 175145.78, 'TotalPayBenefits': 175145.78, 'Year': 2011, 'Notes': None, 'Agency': 'San Francisco', 'Status': None}\n",
      "{'_id': ObjectId('6266e2202843d1225747e60e'), 'Id': 948, 'EmployeeName': 'DOROTHY QUAN', 'JobTitle': 'NURSE MANAGER', 'BasePay': '154939.5', 'OvertimePay': '0.0', 'OtherPay': '16403.96', 'Benefits': None, 'TotalPay': 171343.46, 'TotalPayBenefits': 171343.46, 'Year': 2011, 'Notes': None, 'Agency': 'San Francisco', 'Status': None}\n",
      "{'_id': ObjectId('6266e2202843d1225747e63c'), 'Id': 994, 'EmployeeName': 'GRACE SALUD', 'JobTitle': 'NURSE MANAGER', 'BasePay': '156312.0', 'OvertimePay': '0.0', 'OtherPay': '13587.12', 'Benefits': None, 'TotalPay': 169899.12, 'TotalPayBenefits': 169899.12, 'Year': 2011, 'Notes': None, 'Agency': 'San Francisco', 'Status': None}\n",
      "{'_id': ObjectId('6266e2202843d1225747e6ae'), 'Id': 1108, 'EmployeeName': 'SAMUEL JONES', 'JobTitle': 'NURSE MANAGER', 'BasePay': '156312.0', 'OvertimePay': '0.0', 'OtherPay': '10977.91', 'Benefits': None, 'TotalPay': 167289.91, 'TotalPayBenefits': 167289.91, 'Year': 2011, 'Notes': None, 'Agency': 'San Francisco', 'Status': None}\n",
      "{'_id': ObjectId('6266e2202843d1225747e6b0'), 'Id': 1110, 'EmployeeName': 'PATRICIA COGGAN', 'JobTitle': 'NURSE MANAGER', 'BasePay': '156312.0', 'OvertimePay': '0.0', 'OtherPay': '10941.84', 'Benefits': None, 'TotalPay': 167253.84, 'TotalPayBenefits': 167253.84, 'Year': 2011, 'Notes': None, 'Agency': 'San Francisco', 'Status': None}\n",
      "{'_id': ObjectId('6266e2202843d1225747e6b9'), 'Id': 1119, 'EmployeeName': 'EVITA MULLINS', 'JobTitle': 'NURSE MANAGER', 'BasePay': '166062.05', 'OvertimePay': '0.0', 'OtherPay': '805.0', 'Benefits': None, 'TotalPay': 166867.05, 'TotalPayBenefits': 166867.05, 'Year': 2011, 'Notes': None, 'Agency': 'San Francisco', 'Status': None}\n",
      "{'_id': ObjectId('6266e2202843d1225747e6ba'), 'Id': 1120, 'EmployeeName': 'JANE EVANS', 'JobTitle': 'NURSE MANAGER', 'BasePay': '166858.01', 'OvertimePay': '0.0', 'OtherPay': '0.0', 'Benefits': None, 'TotalPay': 166858.01, 'TotalPayBenefits': 166858.01, 'Year': 2011, 'Notes': None, 'Agency': 'San Francisco', 'Status': None}\n",
      "{'_id': ObjectId('6266e2202843d1225747e6c2'), 'Id': 1128, 'EmployeeName': 'IDY CHAN', 'JobTitle': 'NURSE MANAGER', 'BasePay': '147546.47', 'OvertimePay': '0.0', 'OtherPay': '19117.63', 'Benefits': None, 'TotalPay': 166664.1, 'TotalPayBenefits': 166664.1, 'Year': 2011, 'Notes': None, 'Agency': 'San Francisco', 'Status': None}\n",
      "{'_id': ObjectId('6266e2202843d1225747e6d4'), 'Id': 1146, 'EmployeeName': 'DEBORAH WILLIAMS', 'JobTitle': 'NURSE MANAGER', 'BasePay': '166062.05', 'OvertimePay': '0.0', 'OtherPay': '0.0', 'Benefits': None, 'TotalPay': 166062.05, 'TotalPayBenefits': 166062.05, 'Year': 2011, 'Notes': None, 'Agency': 'San Francisco', 'Status': None}\n",
      "{'_id': ObjectId('6266e2202843d1225747e730'), 'Id': 1238, 'EmployeeName': 'KIT CHAN', 'JobTitle': 'NURSE MANAGER', 'BasePay': '163553.09', 'OvertimePay': '0.0', 'OtherPay': '910.0', 'Benefits': None, 'TotalPay': 164463.09, 'TotalPayBenefits': 164463.09, 'Year': 2011, 'Notes': None, 'Agency': 'San Francisco', 'Status': None}\n",
      "{'_id': ObjectId('6266e2202843d1225747e7fe'), 'Id': 1444, 'EmployeeName': 'ROSALY FERRER', 'JobTitle': 'NURSE MANAGER', 'BasePay': '145321.6', 'OvertimePay': '0.0', 'OtherPay': '17157.03', 'Benefits': None, 'TotalPay': 162478.63, 'TotalPayBenefits': 162478.63, 'Year': 2011, 'Notes': None, 'Agency': 'San Francisco', 'Status': None}\n",
      "{'_id': ObjectId('6266e2202843d1225747e814'), 'Id': 1466, 'EmployeeName': 'ARNOLD DIGNADICE', 'JobTitle': 'NURSE MANAGER', 'BasePay': '151554.0', 'OvertimePay': '0.0', 'OtherPay': '10608.78', 'Benefits': None, 'TotalPay': 162162.78, 'TotalPayBenefits': 162162.78, 'Year': 2011, 'Notes': None, 'Agency': 'San Francisco', 'Status': None}\n",
      "{'_id': ObjectId('6266e2202843d1225747e82a'), 'Id': 1488, 'EmployeeName': 'LOUISE DIMATTIO', 'JobTitle': 'NURSE MANAGER', 'BasePay': '150940.19', 'OvertimePay': '0.0', 'OtherPay': '10615.19', 'Benefits': None, 'TotalPay': 161555.38, 'TotalPayBenefits': 161555.38, 'Year': 2011, 'Notes': None, 'Agency': 'San Francisco', 'Status': None}\n",
      "{'_id': ObjectId('6266e2202843d1225747e841'), 'Id': 1511, 'EmployeeName': 'PATRICIA GREEN', 'JobTitle': 'NURSE MANAGER', 'BasePay': '161044.0', 'OvertimePay': '0.0', 'OtherPay': '0.0', 'Benefits': None, 'TotalPay': 161044.0, 'TotalPayBenefits': 161044.0, 'Year': 2011, 'Notes': None, 'Agency': 'San Francisco', 'Status': None}\n",
      "{'_id': ObjectId('6266e2202843d1225747e842'), 'Id': 1512, 'EmployeeName': 'RICARDO DUARTE', 'JobTitle': 'NURSE MANAGER', 'BasePay': '161031.61', 'OvertimePay': '0.0', 'OtherPay': '0.0', 'Benefits': None, 'TotalPay': 161031.61, 'TotalPayBenefits': 161031.61, 'Year': 2011, 'Notes': None, 'Agency': 'San Francisco', 'Status': None}\n",
      "{'_id': ObjectId('6266e2202843d1225747e855'), 'Id': 1531, 'EmployeeName': 'KAREN ACOSTA', 'JobTitle': 'NURSE MANAGER', 'BasePay': '146006.09', 'OvertimePay': '0.0', 'OtherPay': '14600.63', 'Benefits': None, 'TotalPay': 160606.72, 'TotalPayBenefits': 160606.72, 'Year': 2011, 'Notes': None, 'Agency': 'San Francisco', 'Status': None}\n",
      "{'_id': ObjectId('6266e2202843d1225747e8b4'), 'Id': 1626, 'EmployeeName': 'MORGEN ELIZABETHCHILD', 'JobTitle': 'NURSE MANAGER', 'BasePay': '151553.96', 'OvertimePay': '0.0', 'OtherPay': '7257.48', 'Benefits': None, 'TotalPay': 158811.44, 'TotalPayBenefits': 158811.44, 'Year': 2011, 'Notes': None, 'Agency': 'San Francisco', 'Status': None}\n",
      "{'_id': ObjectId('6266e2202843d1225747e8d4'), 'Id': 1658, 'EmployeeName': 'LESLIE HOLPIT', 'JobTitle': 'NURSE MANAGER', 'BasePay': '143947.09', 'OvertimePay': '0.0', 'OtherPay': '14394.88', 'Benefits': None, 'TotalPay': 158341.97, 'TotalPayBenefits': 158341.97, 'Year': 2011, 'Notes': None, 'Agency': 'San Francisco', 'Status': None}\n",
      "{'_id': ObjectId('6266e2202843d1225747e8d9'), 'Id': 1663, 'EmployeeName': 'TERRI ELLENBERG', 'JobTitle': 'NURSE MANAGER', 'BasePay': '150504.25', 'OvertimePay': '0.0', 'OtherPay': '7799.52', 'Benefits': None, 'TotalPay': 158303.77, 'TotalPayBenefits': 158303.77, 'Year': 2011, 'Notes': None, 'Agency': 'San Francisco', 'Status': None}\n",
      "{'_id': ObjectId('6266e2202843d1225747e910'), 'Id': 1718, 'EmployeeName': 'HARALD SIMS', 'JobTitle': 'NURSE MANAGER', 'BasePay': '150126.33', 'OvertimePay': '546.46', 'OtherPay': '6568.37', 'Benefits': None, 'TotalPay': 157241.16, 'TotalPayBenefits': 157241.16, 'Year': 2011, 'Notes': None, 'Agency': 'San Francisco', 'Status': None}\n",
      "{'_id': ObjectId('6266e2202843d1225747e913'), 'Id': 1721, 'EmployeeName': 'GILLIAN OTWAY', 'JobTitle': 'NURSE MANAGER', 'BasePay': '142922.01', 'OvertimePay': '0.0', 'OtherPay': '14292.4', 'Benefits': None, 'TotalPay': 157214.41, 'TotalPayBenefits': 157214.41, 'Year': 2011, 'Notes': None, 'Agency': 'San Francisco', 'Status': None}\n",
      "{'_id': ObjectId('6266e2202843d1225747e926'), 'Id': 1740, 'EmployeeName': 'ELIZABETH DAYRIT', 'JobTitle': 'NURSE MANAGER', 'BasePay': '142843.99', 'OvertimePay': '0.0', 'OtherPay': '14284.37', 'Benefits': None, 'TotalPay': 157128.36, 'TotalPayBenefits': 157128.36, 'Year': 2011, 'Notes': None, 'Agency': 'San Francisco', 'Status': None}\n",
      "{'_id': ObjectId('6266e2202843d1225747e931'), 'Id': 1751, 'EmployeeName': 'JORGE SOLIS', 'JobTitle': 'NURSE MANAGER', 'BasePay': '156236.85', 'OvertimePay': '0.0', 'OtherPay': '735.0', 'Benefits': None, 'TotalPay': 156971.85, 'TotalPayBenefits': 156971.85, 'Year': 2011, 'Notes': None, 'Agency': 'San Francisco', 'Status': None}\n",
      "{'_id': ObjectId('6266e2202843d1225747e934'), 'Id': 1754, 'EmployeeName': 'LISSETTE WATERMAN', 'JobTitle': 'NURSE MANAGER', 'BasePay': '155957.13', 'OvertimePay': '0.0', 'OtherPay': '967.88', 'Benefits': None, 'TotalPay': 156925.01, 'TotalPayBenefits': 156925.01, 'Year': 2011, 'Notes': None, 'Agency': 'San Francisco', 'Status': None}\n",
      "{'_id': ObjectId('6266e2202843d1225747e962'), 'Id': 1800, 'EmployeeName': 'CARLOS SALAZAR', 'JobTitle': 'NURSE MANAGER', 'BasePay': '156170.72', 'OvertimePay': '0.0', 'OtherPay': '0.0', 'Benefits': None, 'TotalPay': 156170.72, 'TotalPayBenefits': 156170.72, 'Year': 2011, 'Notes': None, 'Agency': 'San Francisco', 'Status': None}\n",
      "{'_id': ObjectId('6266e2202843d1225747e9c2'), 'Id': 1896, 'EmployeeName': 'JACKY SPENCER-DAVIES', 'JobTitle': 'NURSE MANAGER', 'BasePay': '132327.0', 'OvertimePay': '0.0', 'OtherPay': '22347.47', 'Benefits': None, 'TotalPay': 154674.47, 'TotalPayBenefits': 154674.47, 'Year': 2011, 'Notes': None, 'Agency': 'San Francisco', 'Status': None}\n",
      "{'_id': ObjectId('6266e2202843d1225747ea0b'), 'Id': 1969, 'EmployeeName': 'KAREN NAPITAN', 'JobTitle': 'NURSE MANAGER', 'BasePay': '130351.0', 'OvertimePay': '0.0', 'OtherPay': '23189.24', 'Benefits': None, 'TotalPay': 153540.24, 'TotalPayBenefits': 153540.24, 'Year': 2011, 'Notes': None, 'Agency': 'San Francisco', 'Status': None}\n",
      "{'_id': ObjectId('6266e2202843d1225747ea14'), 'Id': 1978, 'EmployeeName': 'IMELDA PRADO', 'JobTitle': 'NURSE MANAGER', 'BasePay': '145523.95', 'OvertimePay': '0.0', 'OtherPay': '7888.43', 'Benefits': None, 'TotalPay': 153412.38, 'TotalPayBenefits': 153412.38, 'Year': 2011, 'Notes': None, 'Agency': 'San Francisco', 'Status': None}\n",
      "{'_id': ObjectId('6266e2202843d1225747ea60'), 'Id': 2054, 'EmployeeName': 'DAISY MAE QUITORIANO', 'JobTitle': 'NURSE MANAGER', 'BasePay': '142844.0', 'OvertimePay': '0.0', 'OtherPay': '9999.08', 'Benefits': None, 'TotalPay': 152843.08, 'TotalPayBenefits': 152843.08, 'Year': 2011, 'Notes': None, 'Agency': 'San Francisco', 'Status': None}\n",
      "{'_id': ObjectId('6266e2202843d1225747ea61'), 'Id': 2055, 'EmployeeName': 'SHERYL CALIX RONQUILLO', 'JobTitle': 'NURSE MANAGER', 'BasePay': '142844.0', 'OvertimePay': '0.0', 'OtherPay': '9999.08', 'Benefits': None, 'TotalPay': 152843.08, 'TotalPayBenefits': 152843.08, 'Year': 2011, 'Notes': None, 'Agency': 'San Francisco', 'Status': None}\n",
      "{'_id': ObjectId('6266e2202843d1225747ea72'), 'Id': 2072, 'EmployeeName': 'MARIA ROELLA ANTOC', 'JobTitle': 'NURSE MANAGER', 'BasePay': '142844.0', 'OvertimePay': '0.0', 'OtherPay': '9768.33', 'Benefits': None, 'TotalPay': 152612.33, 'TotalPayBenefits': 152612.33, 'Year': 2011, 'Notes': None, 'Agency': 'San Francisco', 'Status': None}\n",
      "{'_id': ObjectId('6266e2202843d1225747ea8c'), 'Id': 2098, 'EmployeeName': 'GREGORY CUTCHER', 'JobTitle': 'NURSE MANAGER', 'BasePay': '136227.01', 'OvertimePay': '0.0', 'OtherPay': '15956.7', 'Benefits': None, 'TotalPay': 152183.71, 'TotalPayBenefits': 152183.71, 'Year': 2011, 'Notes': None, 'Agency': 'San Francisco', 'Status': None}\n",
      "{'_id': ObjectId('6266e2202843d1225747eb18'), 'Id': 2238, 'EmployeeName': 'KATHLEEN FLANAGAN', 'JobTitle': 'NURSE MANAGER', 'BasePay': '142837.02', 'OvertimePay': '6867.5', 'OtherPay': '0.0', 'Benefits': None, 'TotalPay': 149704.52, 'TotalPayBenefits': 149704.52, 'Year': 2011, 'Notes': None, 'Agency': 'San Francisco', 'Status': None}\n",
      "{'_id': ObjectId('6266e2202843d1225747eb3e'), 'Id': 2276, 'EmployeeName': 'LINDA MEDEIROS', 'JobTitle': 'NURSE MANAGER', 'BasePay': '149222.39', 'OvertimePay': '0.0', 'OtherPay': '0.0', 'Benefits': None, 'TotalPay': 149222.39, 'TotalPayBenefits': 149222.39, 'Year': 2011, 'Notes': None, 'Agency': 'San Francisco', 'Status': None}\n",
      "{'_id': ObjectId('6266e2202843d1225747ebde'), 'Id': 2436, 'EmployeeName': 'MERJO ROCA', 'JobTitle': 'NURSE MANAGER', 'BasePay': '137551.6', 'OvertimePay': '0.0', 'OtherPay': '9632.28', 'Benefits': None, 'TotalPay': 147183.88, 'TotalPayBenefits': 147183.88, 'Year': 2011, 'Notes': None, 'Agency': 'San Francisco', 'Status': None}\n",
      "{'_id': ObjectId('6266e2202843d1225747ec81'), 'Id': 2599, 'EmployeeName': 'JOYCELYN DE CASTRO', 'JobTitle': 'NURSE MANAGER', 'BasePay': '135785.0', 'OvertimePay': '0.0', 'OtherPay': '9504.95', 'Benefits': None, 'TotalPay': 145289.95, 'TotalPayBenefits': 145289.95, 'Year': 2011, 'Notes': None, 'Agency': 'San Francisco', 'Status': None}\n",
      "{'_id': ObjectId('6266e2202843d1225747ee6a'), 'Id': 3088, 'EmployeeName': 'KAREN BACZKOWSKI', 'JobTitle': 'NURSE MANAGER', 'BasePay': '131598.17', 'OvertimePay': '0.0', 'OtherPay': '8416.8', 'Benefits': None, 'TotalPay': 140014.97, 'TotalPayBenefits': 140014.97, 'Year': 2011, 'Notes': None, 'Agency': 'San Francisco', 'Status': None}\n",
      "{'_id': ObjectId('6266e2202843d1225747ef81'), 'Id': 3367, 'EmployeeName': 'TERESITA BALUYUT', 'JobTitle': 'NURSE MANAGER', 'BasePay': '86716.0', 'OvertimePay': '0.0', 'OtherPay': '50501.57', 'Benefits': None, 'TotalPay': 137217.57, 'TotalPayBenefits': 137217.57, 'Year': 2011, 'Notes': None, 'Agency': 'San Francisco', 'Status': None}\n",
      "{'_id': ObjectId('6266e2202843d1225747f954'), 'Id': 5882, 'EmployeeName': 'LETTIE MILLER', 'JobTitle': 'NURSE MANAGER', 'BasePay': '76164.5', 'OvertimePay': '1238.8', 'OtherPay': '42003.76', 'Benefits': None, 'TotalPay': 119407.06, 'TotalPayBenefits': 119407.06, 'Year': 2011, 'Notes': None, 'Agency': 'San Francisco', 'Status': None}\n",
      "{'_id': ObjectId('6266e2202843d1225747fa61'), 'Id': 6151, 'EmployeeName': 'BARBARA WALTER', 'JobTitle': 'NURSE MANAGER', 'BasePay': '108316.13', 'OvertimePay': '0.0', 'OtherPay': '9575.94', 'Benefits': None, 'TotalPay': 117892.07, 'TotalPayBenefits': 117892.07, 'Year': 2011, 'Notes': None, 'Agency': 'San Francisco', 'Status': None}\n",
      "{'_id': ObjectId('6266e2202843d122574805cb'), 'Id': 9073, 'EmployeeName': 'CHRISTINA FOUSHEE', 'JobTitle': 'NURSE MANAGER', 'BasePay': '96454.03', 'OvertimePay': '0.0', 'OtherPay': '5923.91', 'Benefits': None, 'TotalPay': 102377.94, 'TotalPayBenefits': 102377.94, 'Year': 2011, 'Notes': None, 'Agency': 'San Francisco', 'Status': None}\n",
      "{'_id': ObjectId('6266e2202843d1225748207a'), 'Id': 15904, 'EmployeeName': 'THOMAS HOLTON', 'JobTitle': 'NURSE MANAGER', 'BasePay': '74598.99', 'OvertimePay': '0.0', 'OtherPay': '0.0', 'Benefits': None, 'TotalPay': 74598.99, 'TotalPayBenefits': 74598.99, 'Year': 2011, 'Notes': None, 'Agency': 'San Francisco', 'Status': None}\n",
      "{'_id': ObjectId('6266e2202843d1225748391e'), 'Id': 22212, 'EmployeeName': 'MARIA ISABEL BEZA', 'JobTitle': 'NURSE MANAGER', 'BasePay': '57078.25', 'OvertimePay': '0.0', 'OtherPay': '0.0', 'Benefits': None, 'TotalPay': 57078.25, 'TotalPayBenefits': 57078.25, 'Year': 2011, 'Notes': None, 'Agency': 'San Francisco', 'Status': None}\n",
      "{'_id': ObjectId('6266e2202843d12257485b54'), 'Id': 30970, 'EmployeeName': 'EDWARD GUINA', 'JobTitle': 'NURSE MANAGER', 'BasePay': '11496.6', 'OvertimePay': '0.0', 'OtherPay': '804.76', 'Benefits': None, 'TotalPay': 12301.36, 'TotalPayBenefits': 12301.36, 'Year': 2011, 'Notes': None, 'Agency': 'San Francisco', 'Status': None}\n",
      "Elapsed: 51.25784873962402 ms\n"
     ]
    }
   ],
   "source": [
    "start = time.time()\n",
    "result_1 = collection.find({ \"JobTitle\": \"NURSE MANAGER\" })\n",
    "for i in result_1:\n",
    "    print(i)\n",
    "end = time.time()\n",
    "print(f\"Elapsed: {(end - start)*1000} ms\")\n"
   ],
   "metadata": {
    "collapsed": false,
    "pycharm": {
     "name": "#%%\n"
    }
   }
  },
  {
   "cell_type": "code",
   "execution_count": null,
   "outputs": [],
   "source": [],
   "metadata": {
    "collapsed": false,
    "pycharm": {
     "name": "#%%\n"
    }
   }
  }
 ],
 "metadata": {
  "kernelspec": {
   "display_name": "Python 3 (ipykernel)",
   "language": "python",
   "name": "python3"
  },
  "language_info": {
   "codemirror_mode": {
    "name": "ipython",
    "version": 3
   },
   "file_extension": ".py",
   "mimetype": "text/x-python",
   "name": "python",
   "nbconvert_exporter": "python",
   "pygments_lexer": "ipython3",
   "version": "3.10.4"
  }
 },
 "nbformat": 4,
 "nbformat_minor": 5
}
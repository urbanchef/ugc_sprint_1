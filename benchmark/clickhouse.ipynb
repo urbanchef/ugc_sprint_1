{
 "cells": [
  {
   "cell_type": "code",
   "execution_count": 36,
   "outputs": [],
   "source": [
    "import json\n",
    "from typing import Optional, Text\n",
    "import pandas as pd\n",
    "from clickhouse_driver import Client\n",
    "from pydantic import BaseModel"
   ],
   "metadata": {
    "collapsed": false,
    "pycharm": {
     "name": "#%%\n"
    }
   }
  },
  {
   "cell_type": "code",
   "execution_count": 37,
   "outputs": [],
   "source": [
    "CHUNK_SIZE = 100"
   ],
   "metadata": {
    "collapsed": false,
    "pycharm": {
     "name": "#%%\n"
    }
   }
  },
  {
   "cell_type": "code",
   "execution_count": 38,
   "outputs": [],
   "source": [
    "client = Client(host=\"0.0.0.0\")"
   ],
   "metadata": {
    "collapsed": false,
    "pycharm": {
     "name": "#%%\n"
    }
   }
  },
  {
   "cell_type": "code",
   "execution_count": 39,
   "outputs": [
    {
     "data": {
      "text/plain": "[('INFORMATION_SCHEMA',), ('default',), ('information_schema',), ('system',)]"
     },
     "execution_count": 39,
     "metadata": {},
     "output_type": "execute_result"
    }
   ],
   "source": [
    "client.execute(\"SHOW DATABASES\")"
   ],
   "metadata": {
    "collapsed": false,
    "pycharm": {
     "name": "#%%\n"
    }
   }
  },
  {
   "cell_type": "code",
   "execution_count": 40,
   "outputs": [
    {
     "data": {
      "text/plain": "[]"
     },
     "execution_count": 40,
     "metadata": {},
     "output_type": "execute_result"
    }
   ],
   "source": [
    "client.execute(\"CREATE DATABASE IF NOT EXISTS test_db\")"
   ],
   "metadata": {
    "collapsed": false,
    "pycharm": {
     "name": "#%%\n"
    }
   }
  },
  {
   "cell_type": "code",
   "execution_count": 41,
   "outputs": [
    {
     "data": {
      "text/plain": "[]"
     },
     "execution_count": 41,
     "metadata": {},
     "output_type": "execute_result"
    }
   ],
   "source": [
    "client.execute(\"CREATE TABLE IF NOT EXISTS test_db.test_table (Id UInt64, EmployeeName TEXT, JobTitle TEXT, \\\n",
    "                BasePay Float64, OvertimePay Float64, OtherPay Float64, Benefits String, TotalPay Float64, \\\n",
    "                TotalPayBenefits Float64, Year UInt32, Notes String, Agency String, Status String) Engine=MergeTree() ORDER BY Id PRIMARY KEY Id\")"
   ],
   "metadata": {
    "collapsed": false,
    "pycharm": {
     "name": "#%%\n"
    }
   }
  },
  {
   "cell_type": "code",
   "execution_count": 42,
   "outputs": [
    {
     "data": {
      "text/plain": "[('test_table',)]"
     },
     "execution_count": 42,
     "metadata": {},
     "output_type": "execute_result"
    }
   ],
   "source": [
    "client.execute(\"SHOW TABLES FROM test_db\")"
   ],
   "metadata": {
    "collapsed": false,
    "pycharm": {
     "name": "#%%\n"
    }
   }
  },
  {
   "cell_type": "code",
   "execution_count": 43,
   "outputs": [],
   "source": [
    "df = pd.read_csv(\"./data/sf_salaries.csv\", delimiter=\",\", encoding=\"utf-8\", low_memory=False)"
   ],
   "metadata": {
    "collapsed": false,
    "pycharm": {
     "name": "#%%\n"
    }
   }
  },
  {
   "cell_type": "code",
   "execution_count": 44,
   "outputs": [],
   "source": [
    "class Data(BaseModel):\n",
    "    Id: int\n",
    "    EmployeeName: Optional[Text]\n",
    "    JobTitle: Optional[Text]\n",
    "    BasePay: Optional[float]\n",
    "    OvertimePay: Optional[float]\n",
    "    OtherPay: Optional[float]\n",
    "    Benefits: Optional[str]\n",
    "    TotalPay: Optional[float]\n",
    "    TotalPayBenefits: Optional[float]\n",
    "    Year: Optional[int]\n",
    "    Notes: Optional[str]\n",
    "    Agency: Optional[str]\n",
    "    Status: Optional[str]"
   ],
   "metadata": {
    "collapsed": false,
    "pycharm": {
     "name": "#%%\n"
    }
   }
  },
  {
   "cell_type": "code",
   "execution_count": 45,
   "outputs": [],
   "source": [
    "payload = json.loads(df.to_json(orient=\"records\"))"
   ],
   "metadata": {
    "collapsed": false,
    "pycharm": {
     "name": "#%%\n"
    }
   }
  },
  {
   "cell_type": "code",
   "execution_count": 46,
   "outputs": [
    {
     "name": "stdout",
     "output_type": "stream",
     "text": [
      "Now loading values: (1, NATHANIEL FORD, GENERAL MANAGER-METROPOLITAN TRANSIT AUTHORITY, 167411.18, 0.0, 400184.25, None, 567595.43, 567595.43, 2011, San Francisco, None)\n"
     ]
    },
    {
     "ename": "ServerException",
     "evalue": "Code: 62.\nDB::Exception: Cannot parse expression of type String here: NATHANIEL FORD): While executing ValuesBlockInputFormat. Stack trace:\n\n0. DB::Exception::Exception(std::__1::basic_string<char, std::__1::char_traits<char>, std::__1::allocator<char> > const&, int, bool) @ 0xb6fa67a in /usr/bin/clickhouse\n1. DB::ValuesBlockInputFormat::parseExpression(DB::IColumn&, unsigned long) @ 0x171c8762 in /usr/bin/clickhouse\n2. DB::ValuesBlockInputFormat::readRow(std::__1::vector<COW<DB::IColumn>::mutable_ptr<DB::IColumn>, std::__1::allocator<COW<DB::IColumn>::mutable_ptr<DB::IColumn> > >&, unsigned long) @ 0x171c653c in /usr/bin/clickhouse\n3. DB::ValuesBlockInputFormat::generate() @ 0x171c57b3 in /usr/bin/clickhouse\n4. DB::ISource::tryGenerate() @ 0x17031115 in /usr/bin/clickhouse\n5. DB::ISource::work() @ 0x17030dba in /usr/bin/clickhouse\n6. DB::ExecutionThreadContext::executeTask() @ 0x17051528 in /usr/bin/clickhouse\n7. DB::PipelineExecutor::executeStepImpl(unsigned long, std::__1::atomic<bool>*) @ 0x17044b9e in /usr/bin/clickhouse\n8. DB::PipelineExecutor::executeImpl(unsigned long) @ 0x17043aa1 in /usr/bin/clickhouse\n9. DB::PipelineExecutor::execute(unsigned long) @ 0x17043738 in /usr/bin/clickhouse\n10. ? @ 0x17042b0a in /usr/bin/clickhouse\n11. ThreadPoolImpl<std::__1::thread>::worker(std::__1::__list_iterator<std::__1::thread, void*>) @ 0xb7a5f27 in /usr/bin/clickhouse\n12. ? @ 0xb7a995d in /usr/bin/clickhouse\n13. ? @ 0x7f5952dfa609 in ?\n14. __clone @ 0x7f5952d1f163 in ?\n",
     "output_type": "error",
     "traceback": [
      "\u001B[0;31m---------------------------------------------------------------------------\u001B[0m",
      "\u001B[0;31mServerException\u001B[0m                           Traceback (most recent call last)",
      "Input \u001B[0;32mIn [46]\u001B[0m, in \u001B[0;36m<cell line: 1>\u001B[0;34m()\u001B[0m\n\u001B[1;32m      2\u001B[0m d \u001B[38;5;241m=\u001B[39m Data(\u001B[38;5;241m*\u001B[39m\u001B[38;5;241m*\u001B[39mi)\n\u001B[1;32m      3\u001B[0m \u001B[38;5;28mprint\u001B[39m(\u001B[38;5;124mf\u001B[39m\u001B[38;5;124m\"\u001B[39m\u001B[38;5;124mNow loading values: (\u001B[39m\u001B[38;5;132;01m{\u001B[39;00md\u001B[38;5;241m.\u001B[39mId\u001B[38;5;132;01m}\u001B[39;00m\u001B[38;5;124m, \u001B[39m\u001B[38;5;132;01m{\u001B[39;00md\u001B[38;5;241m.\u001B[39mEmployeeName\u001B[38;5;132;01m}\u001B[39;00m\u001B[38;5;124m, \u001B[39m\u001B[38;5;132;01m{\u001B[39;00md\u001B[38;5;241m.\u001B[39mJobTitle\u001B[38;5;132;01m}\u001B[39;00m\u001B[38;5;124m, \u001B[39m\u001B[38;5;132;01m{\u001B[39;00md\u001B[38;5;241m.\u001B[39mBasePay\u001B[38;5;132;01m}\u001B[39;00m\u001B[38;5;124m, \u001B[39m\u001B[38;5;132;01m{\u001B[39;00md\u001B[38;5;241m.\u001B[39mOvertimePay\u001B[38;5;132;01m}\u001B[39;00m\u001B[38;5;124m, \u001B[39m\u001B[38;5;132;01m{\u001B[39;00md\u001B[38;5;241m.\u001B[39mOtherPay\u001B[38;5;132;01m}\u001B[39;00m\u001B[38;5;124m, \u001B[39m\u001B[38;5;132;01m{\u001B[39;00md\u001B[38;5;241m.\u001B[39mBenefits\u001B[38;5;132;01m}\u001B[39;00m\u001B[38;5;124m, \u001B[39m\u001B[38;5;132;01m{\u001B[39;00md\u001B[38;5;241m.\u001B[39mTotalPay\u001B[38;5;132;01m}\u001B[39;00m\u001B[38;5;124m, \u001B[39m\u001B[38;5;132;01m{\u001B[39;00md\u001B[38;5;241m.\u001B[39mTotalPayBenefits\u001B[38;5;132;01m}\u001B[39;00m\u001B[38;5;124m, \u001B[39m\u001B[38;5;132;01m{\u001B[39;00md\u001B[38;5;241m.\u001B[39mYear\u001B[38;5;132;01m}\u001B[39;00m\u001B[38;5;124m, \u001B[39m\u001B[38;5;132;01m{\u001B[39;00md\u001B[38;5;241m.\u001B[39mAgency\u001B[38;5;132;01m}\u001B[39;00m\u001B[38;5;124m, \u001B[39m\u001B[38;5;132;01m{\u001B[39;00md\u001B[38;5;241m.\u001B[39mStatus\u001B[38;5;132;01m}\u001B[39;00m\u001B[38;5;124m)\u001B[39m\u001B[38;5;124m\"\u001B[39m)\n\u001B[0;32m----> 4\u001B[0m \u001B[43mclient\u001B[49m\u001B[38;5;241;43m.\u001B[39;49m\u001B[43mexecute\u001B[49m\u001B[43m(\u001B[49m\u001B[38;5;124;43mf\u001B[39;49m\u001B[38;5;124;43m\"\u001B[39;49m\u001B[38;5;124;43mINSERT INTO test_db.test_table (Id, EmployeeName) VALUES (\u001B[39;49m\u001B[38;5;132;43;01m{\u001B[39;49;00m\u001B[43md\u001B[49m\u001B[38;5;241;43m.\u001B[39;49m\u001B[43mId\u001B[49m\u001B[38;5;132;43;01m}\u001B[39;49;00m\u001B[38;5;124;43m, \u001B[39;49m\u001B[38;5;132;43;01m{\u001B[39;49;00m\u001B[43md\u001B[49m\u001B[38;5;241;43m.\u001B[39;49m\u001B[43mEmployeeName\u001B[49m\u001B[38;5;132;43;01m}\u001B[39;49;00m\u001B[38;5;124;43m)\u001B[39;49m\u001B[38;5;124;43m\"\u001B[39;49m\u001B[43m)\u001B[49m\n",
      "File \u001B[0;32m~/YandexPracticum/ugc_sprint_1/.venv/lib/python3.10/site-packages/clickhouse_driver/client.py:296\u001B[0m, in \u001B[0;36mClient.execute\u001B[0;34m(self, query, params, with_column_types, external_tables, query_id, settings, types_check, columnar)\u001B[0m\n\u001B[1;32m    290\u001B[0m     rv \u001B[38;5;241m=\u001B[39m \u001B[38;5;28mself\u001B[39m\u001B[38;5;241m.\u001B[39mprocess_insert_query(\n\u001B[1;32m    291\u001B[0m         query, params, external_tables\u001B[38;5;241m=\u001B[39mexternal_tables,\n\u001B[1;32m    292\u001B[0m         query_id\u001B[38;5;241m=\u001B[39mquery_id, types_check\u001B[38;5;241m=\u001B[39mtypes_check,\n\u001B[1;32m    293\u001B[0m         columnar\u001B[38;5;241m=\u001B[39mcolumnar\n\u001B[1;32m    294\u001B[0m     )\n\u001B[1;32m    295\u001B[0m \u001B[38;5;28;01melse\u001B[39;00m:\n\u001B[0;32m--> 296\u001B[0m     rv \u001B[38;5;241m=\u001B[39m \u001B[38;5;28;43mself\u001B[39;49m\u001B[38;5;241;43m.\u001B[39;49m\u001B[43mprocess_ordinary_query\u001B[49m\u001B[43m(\u001B[49m\n\u001B[1;32m    297\u001B[0m \u001B[43m        \u001B[49m\u001B[43mquery\u001B[49m\u001B[43m,\u001B[49m\u001B[43m \u001B[49m\u001B[43mparams\u001B[49m\u001B[38;5;241;43m=\u001B[39;49m\u001B[43mparams\u001B[49m\u001B[43m,\u001B[49m\u001B[43m \u001B[49m\u001B[43mwith_column_types\u001B[49m\u001B[38;5;241;43m=\u001B[39;49m\u001B[43mwith_column_types\u001B[49m\u001B[43m,\u001B[49m\n\u001B[1;32m    298\u001B[0m \u001B[43m        \u001B[49m\u001B[43mexternal_tables\u001B[49m\u001B[38;5;241;43m=\u001B[39;49m\u001B[43mexternal_tables\u001B[49m\u001B[43m,\u001B[49m\n\u001B[1;32m    299\u001B[0m \u001B[43m        \u001B[49m\u001B[43mquery_id\u001B[49m\u001B[38;5;241;43m=\u001B[39;49m\u001B[43mquery_id\u001B[49m\u001B[43m,\u001B[49m\u001B[43m \u001B[49m\u001B[43mtypes_check\u001B[49m\u001B[38;5;241;43m=\u001B[39;49m\u001B[43mtypes_check\u001B[49m\u001B[43m,\u001B[49m\n\u001B[1;32m    300\u001B[0m \u001B[43m        \u001B[49m\u001B[43mcolumnar\u001B[49m\u001B[38;5;241;43m=\u001B[39;49m\u001B[43mcolumnar\u001B[49m\n\u001B[1;32m    301\u001B[0m \u001B[43m    \u001B[49m\u001B[43m)\u001B[49m\n\u001B[1;32m    302\u001B[0m \u001B[38;5;28mself\u001B[39m\u001B[38;5;241m.\u001B[39mlast_query\u001B[38;5;241m.\u001B[39mstore_elapsed(time() \u001B[38;5;241m-\u001B[39m start_time)\n\u001B[1;32m    303\u001B[0m \u001B[38;5;28;01mreturn\u001B[39;00m rv\n",
      "File \u001B[0;32m~/YandexPracticum/ugc_sprint_1/.venv/lib/python3.10/site-packages/clickhouse_driver/client.py:482\u001B[0m, in \u001B[0;36mClient.process_ordinary_query\u001B[0;34m(self, query, params, with_column_types, external_tables, query_id, types_check, columnar)\u001B[0m\n\u001B[1;32m    479\u001B[0m \u001B[38;5;28mself\u001B[39m\u001B[38;5;241m.\u001B[39mconnection\u001B[38;5;241m.\u001B[39msend_query(query, query_id\u001B[38;5;241m=\u001B[39mquery_id)\n\u001B[1;32m    480\u001B[0m \u001B[38;5;28mself\u001B[39m\u001B[38;5;241m.\u001B[39mconnection\u001B[38;5;241m.\u001B[39msend_external_tables(external_tables,\n\u001B[1;32m    481\u001B[0m                                      types_check\u001B[38;5;241m=\u001B[39mtypes_check)\n\u001B[0;32m--> 482\u001B[0m \u001B[38;5;28;01mreturn\u001B[39;00m \u001B[38;5;28;43mself\u001B[39;49m\u001B[38;5;241;43m.\u001B[39;49m\u001B[43mreceive_result\u001B[49m\u001B[43m(\u001B[49m\u001B[43mwith_column_types\u001B[49m\u001B[38;5;241;43m=\u001B[39;49m\u001B[43mwith_column_types\u001B[49m\u001B[43m,\u001B[49m\n\u001B[1;32m    483\u001B[0m \u001B[43m                           \u001B[49m\u001B[43mcolumnar\u001B[49m\u001B[38;5;241;43m=\u001B[39;49m\u001B[43mcolumnar\u001B[49m\u001B[43m)\u001B[49m\n",
      "File \u001B[0;32m~/YandexPracticum/ugc_sprint_1/.venv/lib/python3.10/site-packages/clickhouse_driver/client.py:143\u001B[0m, in \u001B[0;36mClient.receive_result\u001B[0;34m(self, with_column_types, progress, columnar)\u001B[0m\n\u001B[1;32m    139\u001B[0m \u001B[38;5;28;01melse\u001B[39;00m:\n\u001B[1;32m    140\u001B[0m     result \u001B[38;5;241m=\u001B[39m \u001B[38;5;28mself\u001B[39m\u001B[38;5;241m.\u001B[39mquery_result_cls(\n\u001B[1;32m    141\u001B[0m         gen, with_column_types\u001B[38;5;241m=\u001B[39mwith_column_types, columnar\u001B[38;5;241m=\u001B[39mcolumnar\n\u001B[1;32m    142\u001B[0m     )\n\u001B[0;32m--> 143\u001B[0m     \u001B[38;5;28;01mreturn\u001B[39;00m \u001B[43mresult\u001B[49m\u001B[38;5;241;43m.\u001B[39;49m\u001B[43mget_result\u001B[49m\u001B[43m(\u001B[49m\u001B[43m)\u001B[49m\n",
      "File \u001B[0;32m~/YandexPracticum/ugc_sprint_1/.venv/lib/python3.10/site-packages/clickhouse_driver/result.py:50\u001B[0m, in \u001B[0;36mQueryResult.get_result\u001B[0;34m(self)\u001B[0m\n\u001B[1;32m     45\u001B[0m \u001B[38;5;28;01mdef\u001B[39;00m \u001B[38;5;21mget_result\u001B[39m(\u001B[38;5;28mself\u001B[39m):\n\u001B[1;32m     46\u001B[0m     \u001B[38;5;124;03m\"\"\"\u001B[39;00m\n\u001B[1;32m     47\u001B[0m \u001B[38;5;124;03m    :return: stored query result.\u001B[39;00m\n\u001B[1;32m     48\u001B[0m \u001B[38;5;124;03m    \"\"\"\u001B[39;00m\n\u001B[0;32m---> 50\u001B[0m     \u001B[38;5;28;01mfor\u001B[39;00m packet \u001B[38;5;129;01min\u001B[39;00m \u001B[38;5;28mself\u001B[39m\u001B[38;5;241m.\u001B[39mpacket_generator:\n\u001B[1;32m     51\u001B[0m         \u001B[38;5;28mself\u001B[39m\u001B[38;5;241m.\u001B[39mstore(packet)\n\u001B[1;32m     53\u001B[0m     data \u001B[38;5;241m=\u001B[39m \u001B[38;5;28mself\u001B[39m\u001B[38;5;241m.\u001B[39mdata\n",
      "File \u001B[0;32m~/YandexPracticum/ugc_sprint_1/.venv/lib/python3.10/site-packages/clickhouse_driver/client.py:159\u001B[0m, in \u001B[0;36mClient.packet_generator\u001B[0;34m(self)\u001B[0m\n\u001B[1;32m    157\u001B[0m \u001B[38;5;28;01mwhile\u001B[39;00m \u001B[38;5;28;01mTrue\u001B[39;00m:\n\u001B[1;32m    158\u001B[0m     \u001B[38;5;28;01mtry\u001B[39;00m:\n\u001B[0;32m--> 159\u001B[0m         packet \u001B[38;5;241m=\u001B[39m \u001B[38;5;28;43mself\u001B[39;49m\u001B[38;5;241;43m.\u001B[39;49m\u001B[43mreceive_packet\u001B[49m\u001B[43m(\u001B[49m\u001B[43m)\u001B[49m\n\u001B[1;32m    160\u001B[0m         \u001B[38;5;28;01mif\u001B[39;00m \u001B[38;5;129;01mnot\u001B[39;00m packet:\n\u001B[1;32m    161\u001B[0m             \u001B[38;5;28;01mbreak\u001B[39;00m\n",
      "File \u001B[0;32m~/YandexPracticum/ugc_sprint_1/.venv/lib/python3.10/site-packages/clickhouse_driver/client.py:176\u001B[0m, in \u001B[0;36mClient.receive_packet\u001B[0;34m(self)\u001B[0m\n\u001B[1;32m    173\u001B[0m packet \u001B[38;5;241m=\u001B[39m \u001B[38;5;28mself\u001B[39m\u001B[38;5;241m.\u001B[39mconnection\u001B[38;5;241m.\u001B[39mreceive_packet()\n\u001B[1;32m    175\u001B[0m \u001B[38;5;28;01mif\u001B[39;00m packet\u001B[38;5;241m.\u001B[39mtype \u001B[38;5;241m==\u001B[39m ServerPacketTypes\u001B[38;5;241m.\u001B[39mEXCEPTION:\n\u001B[0;32m--> 176\u001B[0m     \u001B[38;5;28;01mraise\u001B[39;00m packet\u001B[38;5;241m.\u001B[39mexception\n\u001B[1;32m    178\u001B[0m \u001B[38;5;28;01melif\u001B[39;00m packet\u001B[38;5;241m.\u001B[39mtype \u001B[38;5;241m==\u001B[39m ServerPacketTypes\u001B[38;5;241m.\u001B[39mPROGRESS:\n\u001B[1;32m    179\u001B[0m     \u001B[38;5;28mself\u001B[39m\u001B[38;5;241m.\u001B[39mlast_query\u001B[38;5;241m.\u001B[39mstore_progress(packet\u001B[38;5;241m.\u001B[39mprogress)\n",
      "\u001B[0;31mServerException\u001B[0m: Code: 62.\nDB::Exception: Cannot parse expression of type String here: NATHANIEL FORD): While executing ValuesBlockInputFormat. Stack trace:\n\n0. DB::Exception::Exception(std::__1::basic_string<char, std::__1::char_traits<char>, std::__1::allocator<char> > const&, int, bool) @ 0xb6fa67a in /usr/bin/clickhouse\n1. DB::ValuesBlockInputFormat::parseExpression(DB::IColumn&, unsigned long) @ 0x171c8762 in /usr/bin/clickhouse\n2. DB::ValuesBlockInputFormat::readRow(std::__1::vector<COW<DB::IColumn>::mutable_ptr<DB::IColumn>, std::__1::allocator<COW<DB::IColumn>::mutable_ptr<DB::IColumn> > >&, unsigned long) @ 0x171c653c in /usr/bin/clickhouse\n3. DB::ValuesBlockInputFormat::generate() @ 0x171c57b3 in /usr/bin/clickhouse\n4. DB::ISource::tryGenerate() @ 0x17031115 in /usr/bin/clickhouse\n5. DB::ISource::work() @ 0x17030dba in /usr/bin/clickhouse\n6. DB::ExecutionThreadContext::executeTask() @ 0x17051528 in /usr/bin/clickhouse\n7. DB::PipelineExecutor::executeStepImpl(unsigned long, std::__1::atomic<bool>*) @ 0x17044b9e in /usr/bin/clickhouse\n8. DB::PipelineExecutor::executeImpl(unsigned long) @ 0x17043aa1 in /usr/bin/clickhouse\n9. DB::PipelineExecutor::execute(unsigned long) @ 0x17043738 in /usr/bin/clickhouse\n10. ? @ 0x17042b0a in /usr/bin/clickhouse\n11. ThreadPoolImpl<std::__1::thread>::worker(std::__1::__list_iterator<std::__1::thread, void*>) @ 0xb7a5f27 in /usr/bin/clickhouse\n12. ? @ 0xb7a995d in /usr/bin/clickhouse\n13. ? @ 0x7f5952dfa609 in ?\n14. __clone @ 0x7f5952d1f163 in ?\n"
     ]
    }
   ],
   "source": [
    "for i in payload[0:CHUNK_SIZE]:\n",
    "    d = Data(**i)\n",
    "    print(f\"Now loading values: ({d.Id}, {d.EmployeeName}, {d.JobTitle}, {d.BasePay}, {d.OvertimePay}, {d.OtherPay}, {d.Benefits}, {d.TotalPay}, {d.TotalPayBenefits}, {d.Year}, {d.Agency}, {d.Status})\")\n",
    "    client.execute(f\"INSERT INTO test_db.test_table (Id, EmployeeName) VALUES ({d.Id}, {d.EmployeeName})\")"
   ],
   "metadata": {
    "collapsed": false,
    "pycharm": {
     "name": "#%%\n"
    }
   }
  },
  {
   "cell_type": "code",
   "execution_count": null,
   "outputs": [],
   "source": [],
   "metadata": {
    "collapsed": false,
    "pycharm": {
     "name": "#%%\n"
    }
   }
  }
 ],
 "metadata": {
  "kernelspec": {
   "display_name": "Python 3",
   "language": "python",
   "name": "python3"
  },
  "language_info": {
   "codemirror_mode": {
    "name": "ipython",
    "version": 2
   },
   "file_extension": ".py",
   "mimetype": "text/x-python",
   "name": "python",
   "nbconvert_exporter": "python",
   "pygments_lexer": "ipython2",
   "version": "2.7.6"
  }
 },
 "nbformat": 4,
 "nbformat_minor": 0
}